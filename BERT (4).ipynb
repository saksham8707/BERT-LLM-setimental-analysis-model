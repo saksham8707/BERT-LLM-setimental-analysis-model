{
  "nbformat": 4,
  "nbformat_minor": 0,
  "metadata": {
    "colab": {
      "provenance": [],
      "gpuType": "T4"
    },
    "kernelspec": {
      "name": "python3",
      "display_name": "Python 3"
    },
    "language_info": {
      "name": "python"
    },
    "accelerator": "GPU",
    "widgets": {
      "application/vnd.jupyter.widget-state+json": {
        "f6257f2e3d22402c99fb4e0ab3d31ebe": {
          "model_module": "@jupyter-widgets/controls",
          "model_name": "HBoxModel",
          "model_module_version": "1.5.0",
          "state": {
            "_dom_classes": [],
            "_model_module": "@jupyter-widgets/controls",
            "_model_module_version": "1.5.0",
            "_model_name": "HBoxModel",
            "_view_count": null,
            "_view_module": "@jupyter-widgets/controls",
            "_view_module_version": "1.5.0",
            "_view_name": "HBoxView",
            "box_style": "",
            "children": [
              "IPY_MODEL_ec904c25c601436f9be14d249b27c824",
              "IPY_MODEL_36dd4329b43e4a678d7164d5d02a0bfc",
              "IPY_MODEL_178d4b5c08e947838557ea22c86782ed"
            ],
            "layout": "IPY_MODEL_31727388ceea436ebfabdbfe99ab5891"
          }
        },
        "ec904c25c601436f9be14d249b27c824": {
          "model_module": "@jupyter-widgets/controls",
          "model_name": "HTMLModel",
          "model_module_version": "1.5.0",
          "state": {
            "_dom_classes": [],
            "_model_module": "@jupyter-widgets/controls",
            "_model_module_version": "1.5.0",
            "_model_name": "HTMLModel",
            "_view_count": null,
            "_view_module": "@jupyter-widgets/controls",
            "_view_module_version": "1.5.0",
            "_view_name": "HTMLView",
            "description": "",
            "description_tooltip": null,
            "layout": "IPY_MODEL_78dff75853ed4681bb754a91ba9b61ed",
            "placeholder": "​",
            "style": "IPY_MODEL_528556c911b040b8aa7a9b046c152bb2",
            "value": "100%"
          }
        },
        "36dd4329b43e4a678d7164d5d02a0bfc": {
          "model_module": "@jupyter-widgets/controls",
          "model_name": "FloatProgressModel",
          "model_module_version": "1.5.0",
          "state": {
            "_dom_classes": [],
            "_model_module": "@jupyter-widgets/controls",
            "_model_module_version": "1.5.0",
            "_model_name": "FloatProgressModel",
            "_view_count": null,
            "_view_module": "@jupyter-widgets/controls",
            "_view_module_version": "1.5.0",
            "_view_name": "ProgressView",
            "bar_style": "success",
            "description": "",
            "description_tooltip": null,
            "layout": "IPY_MODEL_1d0a036e8ea641a89c7db3f314a479dc",
            "max": 1,
            "min": 0,
            "orientation": "horizontal",
            "style": "IPY_MODEL_fd641e36cb414d10af340cb224becb3b",
            "value": 1
          }
        },
        "178d4b5c08e947838557ea22c86782ed": {
          "model_module": "@jupyter-widgets/controls",
          "model_name": "HTMLModel",
          "model_module_version": "1.5.0",
          "state": {
            "_dom_classes": [],
            "_model_module": "@jupyter-widgets/controls",
            "_model_module_version": "1.5.0",
            "_model_name": "HTMLModel",
            "_view_count": null,
            "_view_module": "@jupyter-widgets/controls",
            "_view_module_version": "1.5.0",
            "_view_name": "HTMLView",
            "description": "",
            "description_tooltip": null,
            "layout": "IPY_MODEL_954011d384cb4c978472a2a91c6ef8fe",
            "placeholder": "​",
            "style": "IPY_MODEL_93a421689e0a48358a6d153c873255d3",
            "value": " 1/1 [52:28&lt;00:00, 3148.33s/it]"
          }
        },
        "31727388ceea436ebfabdbfe99ab5891": {
          "model_module": "@jupyter-widgets/base",
          "model_name": "LayoutModel",
          "model_module_version": "1.2.0",
          "state": {
            "_model_module": "@jupyter-widgets/base",
            "_model_module_version": "1.2.0",
            "_model_name": "LayoutModel",
            "_view_count": null,
            "_view_module": "@jupyter-widgets/base",
            "_view_module_version": "1.2.0",
            "_view_name": "LayoutView",
            "align_content": null,
            "align_items": null,
            "align_self": null,
            "border": null,
            "bottom": null,
            "display": null,
            "flex": null,
            "flex_flow": null,
            "grid_area": null,
            "grid_auto_columns": null,
            "grid_auto_flow": null,
            "grid_auto_rows": null,
            "grid_column": null,
            "grid_gap": null,
            "grid_row": null,
            "grid_template_areas": null,
            "grid_template_columns": null,
            "grid_template_rows": null,
            "height": null,
            "justify_content": null,
            "justify_items": null,
            "left": null,
            "margin": null,
            "max_height": null,
            "max_width": null,
            "min_height": null,
            "min_width": null,
            "object_fit": null,
            "object_position": null,
            "order": null,
            "overflow": null,
            "overflow_x": null,
            "overflow_y": null,
            "padding": null,
            "right": null,
            "top": null,
            "visibility": null,
            "width": null
          }
        },
        "78dff75853ed4681bb754a91ba9b61ed": {
          "model_module": "@jupyter-widgets/base",
          "model_name": "LayoutModel",
          "model_module_version": "1.2.0",
          "state": {
            "_model_module": "@jupyter-widgets/base",
            "_model_module_version": "1.2.0",
            "_model_name": "LayoutModel",
            "_view_count": null,
            "_view_module": "@jupyter-widgets/base",
            "_view_module_version": "1.2.0",
            "_view_name": "LayoutView",
            "align_content": null,
            "align_items": null,
            "align_self": null,
            "border": null,
            "bottom": null,
            "display": null,
            "flex": null,
            "flex_flow": null,
            "grid_area": null,
            "grid_auto_columns": null,
            "grid_auto_flow": null,
            "grid_auto_rows": null,
            "grid_column": null,
            "grid_gap": null,
            "grid_row": null,
            "grid_template_areas": null,
            "grid_template_columns": null,
            "grid_template_rows": null,
            "height": null,
            "justify_content": null,
            "justify_items": null,
            "left": null,
            "margin": null,
            "max_height": null,
            "max_width": null,
            "min_height": null,
            "min_width": null,
            "object_fit": null,
            "object_position": null,
            "order": null,
            "overflow": null,
            "overflow_x": null,
            "overflow_y": null,
            "padding": null,
            "right": null,
            "top": null,
            "visibility": null,
            "width": null
          }
        },
        "528556c911b040b8aa7a9b046c152bb2": {
          "model_module": "@jupyter-widgets/controls",
          "model_name": "DescriptionStyleModel",
          "model_module_version": "1.5.0",
          "state": {
            "_model_module": "@jupyter-widgets/controls",
            "_model_module_version": "1.5.0",
            "_model_name": "DescriptionStyleModel",
            "_view_count": null,
            "_view_module": "@jupyter-widgets/base",
            "_view_module_version": "1.2.0",
            "_view_name": "StyleView",
            "description_width": ""
          }
        },
        "1d0a036e8ea641a89c7db3f314a479dc": {
          "model_module": "@jupyter-widgets/base",
          "model_name": "LayoutModel",
          "model_module_version": "1.2.0",
          "state": {
            "_model_module": "@jupyter-widgets/base",
            "_model_module_version": "1.2.0",
            "_model_name": "LayoutModel",
            "_view_count": null,
            "_view_module": "@jupyter-widgets/base",
            "_view_module_version": "1.2.0",
            "_view_name": "LayoutView",
            "align_content": null,
            "align_items": null,
            "align_self": null,
            "border": null,
            "bottom": null,
            "display": null,
            "flex": null,
            "flex_flow": null,
            "grid_area": null,
            "grid_auto_columns": null,
            "grid_auto_flow": null,
            "grid_auto_rows": null,
            "grid_column": null,
            "grid_gap": null,
            "grid_row": null,
            "grid_template_areas": null,
            "grid_template_columns": null,
            "grid_template_rows": null,
            "height": null,
            "justify_content": null,
            "justify_items": null,
            "left": null,
            "margin": null,
            "max_height": null,
            "max_width": null,
            "min_height": null,
            "min_width": null,
            "object_fit": null,
            "object_position": null,
            "order": null,
            "overflow": null,
            "overflow_x": null,
            "overflow_y": null,
            "padding": null,
            "right": null,
            "top": null,
            "visibility": null,
            "width": null
          }
        },
        "fd641e36cb414d10af340cb224becb3b": {
          "model_module": "@jupyter-widgets/controls",
          "model_name": "ProgressStyleModel",
          "model_module_version": "1.5.0",
          "state": {
            "_model_module": "@jupyter-widgets/controls",
            "_model_module_version": "1.5.0",
            "_model_name": "ProgressStyleModel",
            "_view_count": null,
            "_view_module": "@jupyter-widgets/base",
            "_view_module_version": "1.2.0",
            "_view_name": "StyleView",
            "bar_color": null,
            "description_width": ""
          }
        },
        "954011d384cb4c978472a2a91c6ef8fe": {
          "model_module": "@jupyter-widgets/base",
          "model_name": "LayoutModel",
          "model_module_version": "1.2.0",
          "state": {
            "_model_module": "@jupyter-widgets/base",
            "_model_module_version": "1.2.0",
            "_model_name": "LayoutModel",
            "_view_count": null,
            "_view_module": "@jupyter-widgets/base",
            "_view_module_version": "1.2.0",
            "_view_name": "LayoutView",
            "align_content": null,
            "align_items": null,
            "align_self": null,
            "border": null,
            "bottom": null,
            "display": null,
            "flex": null,
            "flex_flow": null,
            "grid_area": null,
            "grid_auto_columns": null,
            "grid_auto_flow": null,
            "grid_auto_rows": null,
            "grid_column": null,
            "grid_gap": null,
            "grid_row": null,
            "grid_template_areas": null,
            "grid_template_columns": null,
            "grid_template_rows": null,
            "height": null,
            "justify_content": null,
            "justify_items": null,
            "left": null,
            "margin": null,
            "max_height": null,
            "max_width": null,
            "min_height": null,
            "min_width": null,
            "object_fit": null,
            "object_position": null,
            "order": null,
            "overflow": null,
            "overflow_x": null,
            "overflow_y": null,
            "padding": null,
            "right": null,
            "top": null,
            "visibility": null,
            "width": null
          }
        },
        "93a421689e0a48358a6d153c873255d3": {
          "model_module": "@jupyter-widgets/controls",
          "model_name": "DescriptionStyleModel",
          "model_module_version": "1.5.0",
          "state": {
            "_model_module": "@jupyter-widgets/controls",
            "_model_module_version": "1.5.0",
            "_model_name": "DescriptionStyleModel",
            "_view_count": null,
            "_view_module": "@jupyter-widgets/base",
            "_view_module_version": "1.2.0",
            "_view_name": "StyleView",
            "description_width": ""
          }
        },
        "31e61ee40b0a4f769c0ff27113417a5a": {
          "model_module": "@jupyter-widgets/controls",
          "model_name": "HBoxModel",
          "model_module_version": "1.5.0",
          "state": {
            "_dom_classes": [],
            "_model_module": "@jupyter-widgets/controls",
            "_model_module_version": "1.5.0",
            "_model_name": "HBoxModel",
            "_view_count": null,
            "_view_module": "@jupyter-widgets/controls",
            "_view_module_version": "1.5.0",
            "_view_name": "HBoxView",
            "box_style": "",
            "children": [
              "IPY_MODEL_d2861ff7696246fda2f4d648872301fd",
              "IPY_MODEL_1827ac6a672e42eab9ef2e9b56ce6b40",
              "IPY_MODEL_58206a682f234a95b014633a6d25ff2b"
            ],
            "layout": "IPY_MODEL_5fde20eb072a4f11aa8d75825e01cc8c"
          }
        },
        "d2861ff7696246fda2f4d648872301fd": {
          "model_module": "@jupyter-widgets/controls",
          "model_name": "HTMLModel",
          "model_module_version": "1.5.0",
          "state": {
            "_dom_classes": [],
            "_model_module": "@jupyter-widgets/controls",
            "_model_module_version": "1.5.0",
            "_model_name": "HTMLModel",
            "_view_count": null,
            "_view_module": "@jupyter-widgets/controls",
            "_view_module_version": "1.5.0",
            "_view_name": "HTMLView",
            "description": "",
            "description_tooltip": null,
            "layout": "IPY_MODEL_445b69e7bda0450bbbc853a4d720c254",
            "placeholder": "​",
            "style": "IPY_MODEL_7aad003c52aa4d00bd5bb746d76f9c3d",
            "value": "Epoch 1: 100%"
          }
        },
        "1827ac6a672e42eab9ef2e9b56ce6b40": {
          "model_module": "@jupyter-widgets/controls",
          "model_name": "FloatProgressModel",
          "model_module_version": "1.5.0",
          "state": {
            "_dom_classes": [],
            "_model_module": "@jupyter-widgets/controls",
            "_model_module_version": "1.5.0",
            "_model_name": "FloatProgressModel",
            "_view_count": null,
            "_view_module": "@jupyter-widgets/controls",
            "_view_module_version": "1.5.0",
            "_view_name": "ProgressView",
            "bar_style": "",
            "description": "",
            "description_tooltip": null,
            "layout": "IPY_MODEL_39d428e3094f460499b01b6a43cc54c2",
            "max": 3741,
            "min": 0,
            "orientation": "horizontal",
            "style": "IPY_MODEL_0c342d341ea54fd1836e1339fbfec598",
            "value": 3741
          }
        },
        "58206a682f234a95b014633a6d25ff2b": {
          "model_module": "@jupyter-widgets/controls",
          "model_name": "HTMLModel",
          "model_module_version": "1.5.0",
          "state": {
            "_dom_classes": [],
            "_model_module": "@jupyter-widgets/controls",
            "_model_module_version": "1.5.0",
            "_model_name": "HTMLModel",
            "_view_count": null,
            "_view_module": "@jupyter-widgets/controls",
            "_view_module_version": "1.5.0",
            "_view_name": "HTMLView",
            "description": "",
            "description_tooltip": null,
            "layout": "IPY_MODEL_1eca5905245f49c781803b86654b508c",
            "placeholder": "​",
            "style": "IPY_MODEL_76c6d200bfe246b3aed19f4514bf27d9",
            "value": " 3741/3741 [50:35&lt;00:00,  1.64it/s, training_loss=0.094]"
          }
        },
        "5fde20eb072a4f11aa8d75825e01cc8c": {
          "model_module": "@jupyter-widgets/base",
          "model_name": "LayoutModel",
          "model_module_version": "1.2.0",
          "state": {
            "_model_module": "@jupyter-widgets/base",
            "_model_module_version": "1.2.0",
            "_model_name": "LayoutModel",
            "_view_count": null,
            "_view_module": "@jupyter-widgets/base",
            "_view_module_version": "1.2.0",
            "_view_name": "LayoutView",
            "align_content": null,
            "align_items": null,
            "align_self": null,
            "border": null,
            "bottom": null,
            "display": null,
            "flex": null,
            "flex_flow": null,
            "grid_area": null,
            "grid_auto_columns": null,
            "grid_auto_flow": null,
            "grid_auto_rows": null,
            "grid_column": null,
            "grid_gap": null,
            "grid_row": null,
            "grid_template_areas": null,
            "grid_template_columns": null,
            "grid_template_rows": null,
            "height": null,
            "justify_content": null,
            "justify_items": null,
            "left": null,
            "margin": null,
            "max_height": null,
            "max_width": null,
            "min_height": null,
            "min_width": null,
            "object_fit": null,
            "object_position": null,
            "order": null,
            "overflow": null,
            "overflow_x": null,
            "overflow_y": null,
            "padding": null,
            "right": null,
            "top": null,
            "visibility": "hidden",
            "width": null
          }
        },
        "445b69e7bda0450bbbc853a4d720c254": {
          "model_module": "@jupyter-widgets/base",
          "model_name": "LayoutModel",
          "model_module_version": "1.2.0",
          "state": {
            "_model_module": "@jupyter-widgets/base",
            "_model_module_version": "1.2.0",
            "_model_name": "LayoutModel",
            "_view_count": null,
            "_view_module": "@jupyter-widgets/base",
            "_view_module_version": "1.2.0",
            "_view_name": "LayoutView",
            "align_content": null,
            "align_items": null,
            "align_self": null,
            "border": null,
            "bottom": null,
            "display": null,
            "flex": null,
            "flex_flow": null,
            "grid_area": null,
            "grid_auto_columns": null,
            "grid_auto_flow": null,
            "grid_auto_rows": null,
            "grid_column": null,
            "grid_gap": null,
            "grid_row": null,
            "grid_template_areas": null,
            "grid_template_columns": null,
            "grid_template_rows": null,
            "height": null,
            "justify_content": null,
            "justify_items": null,
            "left": null,
            "margin": null,
            "max_height": null,
            "max_width": null,
            "min_height": null,
            "min_width": null,
            "object_fit": null,
            "object_position": null,
            "order": null,
            "overflow": null,
            "overflow_x": null,
            "overflow_y": null,
            "padding": null,
            "right": null,
            "top": null,
            "visibility": null,
            "width": null
          }
        },
        "7aad003c52aa4d00bd5bb746d76f9c3d": {
          "model_module": "@jupyter-widgets/controls",
          "model_name": "DescriptionStyleModel",
          "model_module_version": "1.5.0",
          "state": {
            "_model_module": "@jupyter-widgets/controls",
            "_model_module_version": "1.5.0",
            "_model_name": "DescriptionStyleModel",
            "_view_count": null,
            "_view_module": "@jupyter-widgets/base",
            "_view_module_version": "1.2.0",
            "_view_name": "StyleView",
            "description_width": ""
          }
        },
        "39d428e3094f460499b01b6a43cc54c2": {
          "model_module": "@jupyter-widgets/base",
          "model_name": "LayoutModel",
          "model_module_version": "1.2.0",
          "state": {
            "_model_module": "@jupyter-widgets/base",
            "_model_module_version": "1.2.0",
            "_model_name": "LayoutModel",
            "_view_count": null,
            "_view_module": "@jupyter-widgets/base",
            "_view_module_version": "1.2.0",
            "_view_name": "LayoutView",
            "align_content": null,
            "align_items": null,
            "align_self": null,
            "border": null,
            "bottom": null,
            "display": null,
            "flex": null,
            "flex_flow": null,
            "grid_area": null,
            "grid_auto_columns": null,
            "grid_auto_flow": null,
            "grid_auto_rows": null,
            "grid_column": null,
            "grid_gap": null,
            "grid_row": null,
            "grid_template_areas": null,
            "grid_template_columns": null,
            "grid_template_rows": null,
            "height": null,
            "justify_content": null,
            "justify_items": null,
            "left": null,
            "margin": null,
            "max_height": null,
            "max_width": null,
            "min_height": null,
            "min_width": null,
            "object_fit": null,
            "object_position": null,
            "order": null,
            "overflow": null,
            "overflow_x": null,
            "overflow_y": null,
            "padding": null,
            "right": null,
            "top": null,
            "visibility": null,
            "width": null
          }
        },
        "0c342d341ea54fd1836e1339fbfec598": {
          "model_module": "@jupyter-widgets/controls",
          "model_name": "ProgressStyleModel",
          "model_module_version": "1.5.0",
          "state": {
            "_model_module": "@jupyter-widgets/controls",
            "_model_module_version": "1.5.0",
            "_model_name": "ProgressStyleModel",
            "_view_count": null,
            "_view_module": "@jupyter-widgets/base",
            "_view_module_version": "1.2.0",
            "_view_name": "StyleView",
            "bar_color": null,
            "description_width": ""
          }
        },
        "1eca5905245f49c781803b86654b508c": {
          "model_module": "@jupyter-widgets/base",
          "model_name": "LayoutModel",
          "model_module_version": "1.2.0",
          "state": {
            "_model_module": "@jupyter-widgets/base",
            "_model_module_version": "1.2.0",
            "_model_name": "LayoutModel",
            "_view_count": null,
            "_view_module": "@jupyter-widgets/base",
            "_view_module_version": "1.2.0",
            "_view_name": "LayoutView",
            "align_content": null,
            "align_items": null,
            "align_self": null,
            "border": null,
            "bottom": null,
            "display": null,
            "flex": null,
            "flex_flow": null,
            "grid_area": null,
            "grid_auto_columns": null,
            "grid_auto_flow": null,
            "grid_auto_rows": null,
            "grid_column": null,
            "grid_gap": null,
            "grid_row": null,
            "grid_template_areas": null,
            "grid_template_columns": null,
            "grid_template_rows": null,
            "height": null,
            "justify_content": null,
            "justify_items": null,
            "left": null,
            "margin": null,
            "max_height": null,
            "max_width": null,
            "min_height": null,
            "min_width": null,
            "object_fit": null,
            "object_position": null,
            "order": null,
            "overflow": null,
            "overflow_x": null,
            "overflow_y": null,
            "padding": null,
            "right": null,
            "top": null,
            "visibility": null,
            "width": null
          }
        },
        "76c6d200bfe246b3aed19f4514bf27d9": {
          "model_module": "@jupyter-widgets/controls",
          "model_name": "DescriptionStyleModel",
          "model_module_version": "1.5.0",
          "state": {
            "_model_module": "@jupyter-widgets/controls",
            "_model_module_version": "1.5.0",
            "_model_name": "DescriptionStyleModel",
            "_view_count": null,
            "_view_module": "@jupyter-widgets/base",
            "_view_module_version": "1.2.0",
            "_view_name": "StyleView",
            "description_width": ""
          }
        }
      }
    }
  },
  "cells": [
    {
      "cell_type": "markdown",
      "source": [
        "# Installing dataset"
      ],
      "metadata": {
        "id": "dgeVFYng-u3R"
      }
    },
    {
      "cell_type": "code",
      "execution_count": null,
      "metadata": {
        "colab": {
          "base_uri": "https://localhost:8080/"
        },
        "id": "DxCR6BBMMoGU",
        "outputId": "20654c48-bb30-41c7-aeb4-761a89f6a4bf"
      },
      "outputs": [
        {
          "output_type": "stream",
          "name": "stdout",
          "text": [
            "Requirement already satisfied: datasets in /usr/local/lib/python3.11/dist-packages (3.3.2)\n",
            "Requirement already satisfied: filelock in /usr/local/lib/python3.11/dist-packages (from datasets) (3.17.0)\n",
            "Requirement already satisfied: numpy>=1.17 in /usr/local/lib/python3.11/dist-packages (from datasets) (1.26.4)\n",
            "Requirement already satisfied: pyarrow>=15.0.0 in /usr/local/lib/python3.11/dist-packages (from datasets) (17.0.0)\n",
            "Requirement already satisfied: dill<0.3.9,>=0.3.0 in /usr/local/lib/python3.11/dist-packages (from datasets) (0.3.8)\n",
            "Requirement already satisfied: pandas in /usr/local/lib/python3.11/dist-packages (from datasets) (2.2.2)\n",
            "Requirement already satisfied: requests>=2.32.2 in /usr/local/lib/python3.11/dist-packages (from datasets) (2.32.3)\n",
            "Requirement already satisfied: tqdm>=4.66.3 in /usr/local/lib/python3.11/dist-packages (from datasets) (4.67.1)\n",
            "Requirement already satisfied: xxhash in /usr/local/lib/python3.11/dist-packages (from datasets) (3.5.0)\n",
            "Requirement already satisfied: multiprocess<0.70.17 in /usr/local/lib/python3.11/dist-packages (from datasets) (0.70.16)\n",
            "Requirement already satisfied: fsspec<=2024.12.0,>=2023.1.0 in /usr/local/lib/python3.11/dist-packages (from fsspec[http]<=2024.12.0,>=2023.1.0->datasets) (2024.10.0)\n",
            "Requirement already satisfied: aiohttp in /usr/local/lib/python3.11/dist-packages (from datasets) (3.11.12)\n",
            "Requirement already satisfied: huggingface-hub>=0.24.0 in /usr/local/lib/python3.11/dist-packages (from datasets) (0.28.1)\n",
            "Requirement already satisfied: packaging in /usr/local/lib/python3.11/dist-packages (from datasets) (24.2)\n",
            "Requirement already satisfied: pyyaml>=5.1 in /usr/local/lib/python3.11/dist-packages (from datasets) (6.0.2)\n",
            "Requirement already satisfied: aiohappyeyeballs>=2.3.0 in /usr/local/lib/python3.11/dist-packages (from aiohttp->datasets) (2.4.6)\n",
            "Requirement already satisfied: aiosignal>=1.1.2 in /usr/local/lib/python3.11/dist-packages (from aiohttp->datasets) (1.3.2)\n",
            "Requirement already satisfied: attrs>=17.3.0 in /usr/local/lib/python3.11/dist-packages (from aiohttp->datasets) (25.1.0)\n",
            "Requirement already satisfied: frozenlist>=1.1.1 in /usr/local/lib/python3.11/dist-packages (from aiohttp->datasets) (1.5.0)\n",
            "Requirement already satisfied: multidict<7.0,>=4.5 in /usr/local/lib/python3.11/dist-packages (from aiohttp->datasets) (6.1.0)\n",
            "Requirement already satisfied: propcache>=0.2.0 in /usr/local/lib/python3.11/dist-packages (from aiohttp->datasets) (0.2.1)\n",
            "Requirement already satisfied: yarl<2.0,>=1.17.0 in /usr/local/lib/python3.11/dist-packages (from aiohttp->datasets) (1.18.3)\n",
            "Requirement already satisfied: typing-extensions>=3.7.4.3 in /usr/local/lib/python3.11/dist-packages (from huggingface-hub>=0.24.0->datasets) (4.12.2)\n",
            "Requirement already satisfied: charset-normalizer<4,>=2 in /usr/local/lib/python3.11/dist-packages (from requests>=2.32.2->datasets) (3.4.1)\n",
            "Requirement already satisfied: idna<4,>=2.5 in /usr/local/lib/python3.11/dist-packages (from requests>=2.32.2->datasets) (3.10)\n",
            "Requirement already satisfied: urllib3<3,>=1.21.1 in /usr/local/lib/python3.11/dist-packages (from requests>=2.32.2->datasets) (2.3.0)\n",
            "Requirement already satisfied: certifi>=2017.4.17 in /usr/local/lib/python3.11/dist-packages (from requests>=2.32.2->datasets) (2025.1.31)\n",
            "Requirement already satisfied: python-dateutil>=2.8.2 in /usr/local/lib/python3.11/dist-packages (from pandas->datasets) (2.8.2)\n",
            "Requirement already satisfied: pytz>=2020.1 in /usr/local/lib/python3.11/dist-packages (from pandas->datasets) (2025.1)\n",
            "Requirement already satisfied: tzdata>=2022.7 in /usr/local/lib/python3.11/dist-packages (from pandas->datasets) (2025.1)\n",
            "Requirement already satisfied: six>=1.5 in /usr/local/lib/python3.11/dist-packages (from python-dateutil>=2.8.2->pandas->datasets) (1.17.0)\n"
          ]
        }
      ],
      "source": [
        "!pip install datasets"
      ]
    },
    {
      "cell_type": "markdown",
      "source": [
        "# Loading and Inspecting the Dataset"
      ],
      "metadata": {
        "id": "RcQOGPgI-2GA"
      }
    },
    {
      "cell_type": "code",
      "source": [
        "from datasets import load_dataset\n",
        "\n",
        "ds = load_dataset(\"carblacac/twitter-sentiment-analysis\")"
      ],
      "metadata": {
        "id": "OdT6h-IoNUxU"
      },
      "execution_count": null,
      "outputs": []
    },
    {
      "cell_type": "markdown",
      "source": [
        "Importing Required Libraries"
      ],
      "metadata": {
        "id": "nvwCdWl7-7Sd"
      }
    },
    {
      "cell_type": "code",
      "source": [
        "import numpy as np\n",
        "import pandas as pd\n",
        "import matplotlib.pyplot as plt\n",
        "import seaborn as sns\n",
        "import torch\n",
        "import torch.nn as nn\n",
        "import torch.nn.functional as F"
      ],
      "metadata": {
        "id": "hkyRsefldidd"
      },
      "execution_count": null,
      "outputs": []
    },
    {
      "cell_type": "code",
      "source": [
        "ds"
      ],
      "metadata": {
        "colab": {
          "base_uri": "https://localhost:8080/"
        },
        "id": "Jzf6XbR1Nv_X",
        "outputId": "46c4d0b2-0e00-43f5-ff89-510f9a7a8597"
      },
      "execution_count": null,
      "outputs": [
        {
          "output_type": "execute_result",
          "data": {
            "text/plain": [
              "DatasetDict({\n",
              "    train: Dataset({\n",
              "        features: ['text', 'feeling'],\n",
              "        num_rows: 119988\n",
              "    })\n",
              "    validation: Dataset({\n",
              "        features: ['text', 'feeling'],\n",
              "        num_rows: 29997\n",
              "    })\n",
              "    test: Dataset({\n",
              "        features: ['text', 'feeling'],\n",
              "        num_rows: 61998\n",
              "    })\n",
              "})"
            ]
          },
          "metadata": {},
          "execution_count": 71
        }
      ]
    },
    {
      "cell_type": "code",
      "source": [
        "test_count = len(list(ds['test'])) # counting test rows\n",
        "print(test_count)"
      ],
      "metadata": {
        "colab": {
          "base_uri": "https://localhost:8080/"
        },
        "id": "DSF33YJiN1BJ",
        "outputId": "21958f97-1314-4344-bd5e-7168983487a3"
      },
      "execution_count": null,
      "outputs": [
        {
          "output_type": "stream",
          "name": "stdout",
          "text": [
            "61998\n"
          ]
        }
      ]
    },
    {
      "cell_type": "code",
      "source": [
        "train_count = len(list(ds['train'])) # counting train rows\n",
        "print(train_count)"
      ],
      "metadata": {
        "colab": {
          "base_uri": "https://localhost:8080/"
        },
        "id": "CzivaPWiN7ry",
        "outputId": "22fdd28c-ec6c-48bf-ed6b-62986ae25e30"
      },
      "execution_count": null,
      "outputs": [
        {
          "output_type": "stream",
          "name": "stdout",
          "text": [
            "119988\n"
          ]
        }
      ]
    },
    {
      "cell_type": "code",
      "source": [
        "validation_count = len(list(ds['validation'])) # counting validation rows\n",
        "print(validation_count)"
      ],
      "metadata": {
        "colab": {
          "base_uri": "https://localhost:8080/"
        },
        "id": "XYveGSPGONIM",
        "outputId": "5d4e346c-826f-4c03-b0b3-8bd786dae7e3"
      },
      "execution_count": null,
      "outputs": [
        {
          "output_type": "stream",
          "name": "stdout",
          "text": [
            "29997\n"
          ]
        }
      ]
    },
    {
      "cell_type": "code",
      "source": [
        "traindata =pd.DataFrame(ds['train'])\n",
        "testdata =pd.DataFrame(ds['test'])\n",
        "vdata =pd.DataFrame(ds['validation'])"
      ],
      "metadata": {
        "id": "qGjRqxplOkTK"
      },
      "execution_count": null,
      "outputs": []
    },
    {
      "cell_type": "code",
      "source": [
        "print(traindata.head())\n"
      ],
      "metadata": {
        "colab": {
          "base_uri": "https://localhost:8080/"
        },
        "id": "g3si2ltPOsgA",
        "outputId": "26801711-6237-4153-b209-8e0e7220c71e"
      },
      "execution_count": null,
      "outputs": [
        {
          "output_type": "stream",
          "name": "stdout",
          "text": [
            "                                                text  feeling\n",
            "0  @fa6ami86 so happy that salman won.  btw the 1...        0\n",
            "1  @phantompoptart .......oops.... I guess I'm ki...        0\n",
            "2  @bradleyjp decidedly undecided. Depends on the...        1\n",
            "3  @Mountgrace lol i know! its so frustrating isn...        1\n",
            "4  @kathystover Didn't go much of any where - Lif...        1\n"
          ]
        }
      ]
    },
    {
      "cell_type": "code",
      "source": [
        "print(testdata.head())\n"
      ],
      "metadata": {
        "colab": {
          "base_uri": "https://localhost:8080/"
        },
        "id": "dtcROz-gPcZH",
        "outputId": "127519fb-2d59-4846-9a83-15f96a5c130d"
      },
      "execution_count": null,
      "outputs": [
        {
          "output_type": "stream",
          "name": "stdout",
          "text": [
            "                                                text  feeling\n",
            "0  @justineville ...yeahhh. ) i'm 39 tweets from ...        1\n",
            "1  @ApplesnFeathers aww. Poor baby! On your only ...        0\n",
            "2  @joeymcintyre With my refunded $225 (Australia...        0\n",
            "3  It's fine. Today sucks just because me those t...        0\n",
            "4  Im just chilling on psp and stuff, but sitting...        0\n"
          ]
        }
      ]
    },
    {
      "cell_type": "code",
      "source": [
        "print(vdata.head())"
      ],
      "metadata": {
        "colab": {
          "base_uri": "https://localhost:8080/"
        },
        "id": "STsDQwHVPr3W",
        "outputId": "ba42e3ae-6cfa-4bf9-dcdb-510d87e34055"
      },
      "execution_count": null,
      "outputs": [
        {
          "output_type": "stream",
          "name": "stdout",
          "text": [
            "                                                text  feeling\n",
            "0              is feeling like Monday morning....ugh        0\n",
            "1               @hibbsy are you covered in fur too??        1\n",
            "2  20 min break in all day meeting  hope to be on...        0\n",
            "3    Feels good outside... Under the shade of course        1\n",
            "4  @rustyrockets http://twitpic.com/4ep9h  so you...        1\n"
          ]
        }
      ]
    },
    {
      "cell_type": "code",
      "source": [
        "print(\"train data\")\n",
        "print(traindata.tail())\n",
        "print(\"test data\")\n",
        "print(testdata.tail())\n",
        "print(\"validation data\")\n",
        "print(vdata.tail())\n"
      ],
      "metadata": {
        "colab": {
          "base_uri": "https://localhost:8080/"
        },
        "id": "XmGai9IcQBaz",
        "outputId": "205f1d2f-dc79-4590-fd71-ac1ff2b587e0"
      },
      "execution_count": null,
      "outputs": [
        {
          "output_type": "stream",
          "name": "stdout",
          "text": [
            "train data\n",
            "                                                     text  feeling\n",
            "119983            I so should be in bed but I can't sleep        0\n",
            "119984  @mickeymab mine's in my profile - '77cb550 and...        1\n",
            "119985  @stacyreeves Awe... I wish I could.  I am here...        0\n",
            "119986  Is it me or is Vodafone UK business support ru...        0\n",
            "119987  http://twitpic.com/7jmsh - My man hand with ca...        0\n",
            "test data\n",
            "                                                    text  feeling\n",
            "61993                    @VerityRobinson how come?!    X        0\n",
            "61994       Damn lost my voice no morning singing for me        0\n",
            "61995  it's soooooo cold!!! my poor little fingers ar...        0\n",
            "61996  @ohmymae oh  i see. make you're MSN email righ...        1\n",
            "61997  OMFGGGGGGGGGGGG. I FAILED MY RECENT STATS EXAM...        0\n",
            "validation data\n",
            "                                                    text  feeling\n",
            "29992  Just finished readin Burned by: Ellen Hopkins....        0\n",
            "29993  i hate studying  psyche final tomorrow, TWO MO...        0\n",
            "29994  I wrote this song..but I need sumbody to make ...        0\n",
            "29995                   @Joyxy hope not for tomorrow too        1\n",
            "29996           went shopping  we all know how that goes        0\n"
          ]
        }
      ]
    },
    {
      "cell_type": "markdown",
      "source": [
        " Dataset information"
      ],
      "metadata": {
        "id": "K5N29yva_I5w"
      }
    },
    {
      "cell_type": "code",
      "source": [
        "traindata.info()"
      ],
      "metadata": {
        "colab": {
          "base_uri": "https://localhost:8080/"
        },
        "id": "9oDVB0_aP54r",
        "outputId": "b817bb74-7d49-4604-c408-85bbfd6193a2"
      },
      "execution_count": null,
      "outputs": [
        {
          "output_type": "stream",
          "name": "stdout",
          "text": [
            "<class 'pandas.core.frame.DataFrame'>\n",
            "RangeIndex: 119988 entries, 0 to 119987\n",
            "Data columns (total 2 columns):\n",
            " #   Column   Non-Null Count   Dtype \n",
            "---  ------   --------------   ----- \n",
            " 0   text     119988 non-null  object\n",
            " 1   feeling  119988 non-null  int64 \n",
            "dtypes: int64(1), object(1)\n",
            "memory usage: 1.8+ MB\n"
          ]
        }
      ]
    },
    {
      "cell_type": "code",
      "source": [
        "testdata.info()"
      ],
      "metadata": {
        "colab": {
          "base_uri": "https://localhost:8080/"
        },
        "id": "TPvQHQqaRHvr",
        "outputId": "6b94452d-0e38-4bb9-cf07-bf422b7dee37"
      },
      "execution_count": null,
      "outputs": [
        {
          "output_type": "stream",
          "name": "stdout",
          "text": [
            "<class 'pandas.core.frame.DataFrame'>\n",
            "RangeIndex: 61998 entries, 0 to 61997\n",
            "Data columns (total 2 columns):\n",
            " #   Column   Non-Null Count  Dtype \n",
            "---  ------   --------------  ----- \n",
            " 0   text     61998 non-null  object\n",
            " 1   feeling  61998 non-null  int64 \n",
            "dtypes: int64(1), object(1)\n",
            "memory usage: 968.8+ KB\n"
          ]
        }
      ]
    },
    {
      "cell_type": "code",
      "source": [
        "vdata.info()"
      ],
      "metadata": {
        "colab": {
          "base_uri": "https://localhost:8080/"
        },
        "id": "_oqZQYPjRLlY",
        "outputId": "9f547384-aa1c-4990-a2a9-52cc737a7de7"
      },
      "execution_count": null,
      "outputs": [
        {
          "output_type": "stream",
          "name": "stdout",
          "text": [
            "<class 'pandas.core.frame.DataFrame'>\n",
            "RangeIndex: 29997 entries, 0 to 29996\n",
            "Data columns (total 2 columns):\n",
            " #   Column   Non-Null Count  Dtype \n",
            "---  ------   --------------  ----- \n",
            " 0   text     29997 non-null  object\n",
            " 1   feeling  29997 non-null  int64 \n",
            "dtypes: int64(1), object(1)\n",
            "memory usage: 468.8+ KB\n"
          ]
        }
      ]
    },
    {
      "cell_type": "markdown",
      "source": [
        "#  Checking for Missing Values"
      ],
      "metadata": {
        "id": "USg1TIir_RKb"
      }
    },
    {
      "cell_type": "code",
      "source": [
        "print(traindata.isnull().sum())\n",
        "print(testdata.isnull().sum())\n",
        "print(vdata.isnull().sum())"
      ],
      "metadata": {
        "colab": {
          "base_uri": "https://localhost:8080/"
        },
        "id": "7d7DX0pUQQPD",
        "outputId": "81e045f3-c864-432f-db18-8a385e6e46f8"
      },
      "execution_count": null,
      "outputs": [
        {
          "output_type": "stream",
          "name": "stdout",
          "text": [
            "text       0\n",
            "feeling    0\n",
            "dtype: int64\n",
            "text       0\n",
            "feeling    0\n",
            "dtype: int64\n",
            "text       0\n",
            "feeling    0\n",
            "dtype: int64\n"
          ]
        }
      ]
    },
    {
      "cell_type": "markdown",
      "source": [
        "Visualizing Missing Values\n"
      ],
      "metadata": {
        "id": "Evmd6AJx_B_R"
      }
    },
    {
      "cell_type": "code",
      "source": [
        "print(sns.heatmap(traindata.isnull(),yticklabels = False ) )\n",
        "print(sns.heatmap(testdata.isnull(),yticklabels = False ) )\n",
        "print(sns.heatmap(vdata.isnull(),yticklabels = False ) )"
      ],
      "metadata": {
        "colab": {
          "base_uri": "https://localhost:8080/",
          "height": 487
        },
        "id": "n2b8Ely6dSA9",
        "outputId": "ccd1a3d5-5864-462d-db27-21df5bfd2645"
      },
      "execution_count": null,
      "outputs": [
        {
          "output_type": "stream",
          "name": "stdout",
          "text": [
            "Axes(0.125,0.11;0.62x0.77)\n",
            "Axes(0.125,0.11;0.496x0.77)\n",
            "Axes(0.125,0.11;0.3968x0.77)\n"
          ]
        },
        {
          "output_type": "display_data",
          "data": {
            "text/plain": [
              "<Figure size 640x480 with 4 Axes>"
            ],
            "image/png": "[encoded data removed]"
          },
          "metadata": {}
        }
      ]
    },
    {
      "cell_type": "markdown",
      "source": [
        "Checking for Duplicate Values"
      ],
      "metadata": {
        "id": "zAW3VqRT_3C0"
      }
    },
    {
      "cell_type": "code",
      "source": [
        "traindata.duplicated().sum()\n"
      ],
      "metadata": {
        "colab": {
          "base_uri": "https://localhost:8080/"
        },
        "id": "UdhfBByIRWeX",
        "outputId": "23164da1-de63-4fa3-aa18-3c307f824ef5"
      },
      "execution_count": null,
      "outputs": [
        {
          "output_type": "execute_result",
          "data": {
            "text/plain": [
              "0"
            ]
          },
          "metadata": {},
          "execution_count": 87
        }
      ]
    },
    {
      "cell_type": "markdown",
      "source": [
        "# Data Preprocessing"
      ],
      "metadata": {
        "id": "zK_X-RLy_6yt"
      }
    },
    {
      "cell_type": "markdown",
      "source": [
        "Cleaning urls and @ words"
      ],
      "metadata": {
        "id": "PlcZLqjDAE3N"
      }
    },
    {
      "cell_type": "code",
      "source": [
        "import re\n",
        "def www(text):\n",
        "    text = re.sub(r'@\\w+', '', text)\n",
        "    text = re.sub(r'http\\S+|www\\S+', '', text)\n",
        "\n",
        "    return text\n",
        "\n",
        "traindata[\"text\"] = traindata[\"text\"].astype(str).apply(www)\n",
        "testdata[\"text\"] = testdata[\"text\"].astype(str).apply(www)\n",
        "vdata[\"text\"] = vdata[\"text\"].astype(str).apply(www)"
      ],
      "metadata": {
        "id": "eEphfhObSyrX"
      },
      "execution_count": null,
      "outputs": []
    },
    {
      "cell_type": "code",
      "source": [
        "print('TRAIN')\n",
        "print(traindata.head())\n",
        "print(\"TEST\")\n",
        "print(testdata.head())\n",
        "print('VALIDATION')\n",
        "print(vdata.head())"
      ],
      "metadata": {
        "colab": {
          "base_uri": "https://localhost:8080/"
        },
        "id": "f7H6roO7Zb5I",
        "outputId": "d267bdaf-aad3-4650-a698-a9192145376a"
      },
      "execution_count": null,
      "outputs": [
        {
          "output_type": "stream",
          "name": "stdout",
          "text": [
            "TRAIN\n",
            "                                                text  feeling\n",
            "0   so happy that salman won.  btw the 14sec clip...        0\n",
            "1   .......oops.... I guess I'm kinda out of it.....        0\n",
            "2   decidedly undecided. Depends on the situation...        1\n",
            "3           lol i know! its so frustrating isnt it?!        1\n",
            "4   Didn't go much of any where - Life took over ...        1\n",
            "TEST\n",
            "                                                text  feeling\n",
            "0             ...yeahhh. ) i'm 39 tweets from 1,600!        1\n",
            "1         aww. Poor baby! On your only REAL day off.        0\n",
            "2   With my refunded $225 (Australian ticket pric...        0\n",
            "3  It's fine. Today sucks just because me those t...        0\n",
            "4  Im just chilling on psp and stuff, but sitting...        0\n",
            "VALIDATION\n",
            "                                                text  feeling\n",
            "0              is feeling like Monday morning....ugh        0\n",
            "1                       are you covered in fur too??        1\n",
            "2  20 min break in all day meeting  hope to be on...        0\n",
            "3    Feels good outside... Under the shade of course        1\n",
            "4                      so you'll know what day it is        1\n"
          ]
        }
      ]
    },
    {
      "cell_type": "code",
      "source": [
        "print(\"train data\")\n",
        "print(traindata.tail())\n",
        "print(\"test data\")\n",
        "print(testdata.tail())\n",
        "print(\"validation data\")\n",
        "print(vdata.tail())\n"
      ],
      "metadata": {
        "colab": {
          "base_uri": "https://localhost:8080/"
        },
        "id": "4EicWJY1U9GA",
        "outputId": "717d5eda-9480-4ee5-873f-ac988cc23d2c"
      },
      "execution_count": null,
      "outputs": [
        {
          "output_type": "stream",
          "name": "stdout",
          "text": [
            "train data\n",
            "                                                     text  feeling\n",
            "119983            I so should be in bed but I can't sleep        0\n",
            "119984   mine's in my profile - '77cb550 and hector's ...        1\n",
            "119985   Awe... I wish I could.  I am here this weeken...        0\n",
            "119986  Is it me or is Vodafone UK business support ru...        0\n",
            "119987   - My man hand with cat scratch. Someone said ...        0\n",
            "test data\n",
            "                                                    text  feeling\n",
            "61993                                    how come?!    X        0\n",
            "61994       Damn lost my voice no morning singing for me        0\n",
            "61995  it's soooooo cold!!! my poor little fingers ar...        0\n",
            "61996   oh  i see. make you're MSN email right now!  ...        1\n",
            "61997  OMFGGGGGGGGGGGG. I FAILED MY RECENT STATS EXAM...        0\n",
            "validation data\n",
            "                                                    text  feeling\n",
            "29992  Just finished readin Burned by: Ellen Hopkins....        0\n",
            "29993  i hate studying  psyche final tomorrow, TWO MO...        0\n",
            "29994  I wrote this song..but I need sumbody to make ...        0\n",
            "29995                          hope not for tomorrow too        1\n",
            "29996           went shopping  we all know how that goes        0\n"
          ]
        }
      ]
    },
    {
      "cell_type": "markdown",
      "source": [
        "removeing short data which is length is less than 4\n",
        "\n",
        "\n"
      ],
      "metadata": {
        "id": "UAACnOj7AD1U"
      }
    },
    {
      "cell_type": "code",
      "source": [
        "traindata = traindata[traindata[\"text\"].str.len() > 4]\n",
        "print(traindata.head())\n",
        "testdata = testdata[testdata[\"text\"].str.len() > 4]\n",
        "print(testdata.head())\n",
        "vdata = vdata[vdata[\"text\"].str.len() > 4]\n",
        "print(vdata.head())"
      ],
      "metadata": {
        "colab": {
          "base_uri": "https://localhost:8080/"
        },
        "id": "nk4Uw9ZAVtOR",
        "outputId": "44a7d85d-627a-4ca1-bac8-5f15c4750786"
      },
      "execution_count": null,
      "outputs": [
        {
          "output_type": "stream",
          "name": "stdout",
          "text": [
            "                                                text  feeling\n",
            "0   so happy that salman won.  btw the 14sec clip...        0\n",
            "1   .......oops.... I guess I'm kinda out of it.....        0\n",
            "2   decidedly undecided. Depends on the situation...        1\n",
            "3           lol i know! its so frustrating isnt it?!        1\n",
            "4   Didn't go much of any where - Life took over ...        1\n",
            "                                                text  feeling\n",
            "0             ...yeahhh. ) i'm 39 tweets from 1,600!        1\n",
            "1         aww. Poor baby! On your only REAL day off.        0\n",
            "2   With my refunded $225 (Australian ticket pric...        0\n",
            "3  It's fine. Today sucks just because me those t...        0\n",
            "4  Im just chilling on psp and stuff, but sitting...        0\n",
            "                                                text  feeling\n",
            "0              is feeling like Monday morning....ugh        0\n",
            "1                       are you covered in fur too??        1\n",
            "2  20 min break in all day meeting  hope to be on...        0\n",
            "3    Feels good outside... Under the shade of course        1\n",
            "4                      so you'll know what day it is        1\n"
          ]
        }
      ]
    },
    {
      "cell_type": "code",
      "source": [
        "print(\"TRAIN DATA\",traindata['feeling'].value_counts())\n",
        "print(\"TEST DATA\",testdata['feeling'].value_counts())\n",
        "print(\"VALIDATION DATA \",vdata['feeling'].value_counts())"
      ],
      "metadata": {
        "colab": {
          "base_uri": "https://localhost:8080/"
        },
        "id": "XQc302CIPqEG",
        "outputId": "30f279dc-f594-45c5-c2b3-ae460ed243b4"
      },
      "execution_count": null,
      "outputs": [
        {
          "output_type": "stream",
          "name": "stdout",
          "text": [
            "TRAIN DATA feeling\n",
            "1    59880\n",
            "0    59803\n",
            "Name: count, dtype: int64\n",
            "TEST DATA feeling\n",
            "1    30948\n",
            "0    30877\n",
            "Name: count, dtype: int64\n",
            "VALIDATION DATA  feeling\n",
            "0    15016\n",
            "1    14907\n",
            "Name: count, dtype: int64\n"
          ]
        }
      ]
    },
    {
      "cell_type": "markdown",
      "source": [
        "# Visualizing Sentiment Distribution"
      ],
      "metadata": {
        "id": "WIm2Z7osAfOc"
      }
    },
    {
      "cell_type": "code",
      "source": [
        "k=sns.histplot(traindata[\"feeling\"], kde=True)\n",
        "k.set_title(\" train feeling distribution\")\n",
        "k"
      ],
      "metadata": {
        "colab": {
          "base_uri": "https://localhost:8080/",
          "height": 507
        },
        "id": "hW8eDIs9gjJa",
        "outputId": "0e475c78-0297-4dc6-b7e5-58e899895872"
      },
      "execution_count": null,
      "outputs": [
        {
          "output_type": "execute_result",
          "data": {
            "text/plain": [
              "<Axes: title={'center': ' train feeling distribution'}, xlabel='feeling', ylabel='Count'>"
            ]
          },
          "metadata": {},
          "execution_count": 93
        },
        {
          "output_type": "display_data",
          "data": {
            "text/plain": [
              "<Figure size 640x480 with 1 Axes>"
            ],
            "image/png": "[encoded data removed]"
          },
          "metadata": {}
        }
      ]
    },
    {
      "cell_type": "code",
      "source": [
        "x = sns.boxplot( data=testdata)\n",
        "x.set_title('Train Data Distribution ')\n",
        "\n",
        "x"
      ],
      "metadata": {
        "colab": {
          "base_uri": "https://localhost:8080/",
          "height": 469
        },
        "id": "pCBNmzcKjXRI",
        "outputId": "efde6400-9aca-4d0d-922e-603a52025699"
      },
      "execution_count": null,
      "outputs": [
        {
          "output_type": "execute_result",
          "data": {
            "text/plain": [
              "<Axes: title={'center': 'Train Data Distribution '}>"
            ]
          },
          "metadata": {},
          "execution_count": 94
        },
        {
          "output_type": "display_data",
          "data": {
            "text/plain": [
              "<Figure size 640x480 with 1 Axes>"
            ],
            "image/png": "[encoded data removed]"
          },
          "metadata": {}
        }
      ]
    },
    {
      "cell_type": "code",
      "source": [
        "g = sns.scatterplot(data=vdata)\n",
        "g.set_title('validation Data Distribution')\n",
        "g"
      ],
      "metadata": {
        "colab": {
          "base_uri": "https://localhost:8080/",
          "height": 469
        },
        "id": "mGcpDuIfonTo",
        "outputId": "7c65c675-8c4d-485c-85ed-f6a4ee5082b7"
      },
      "execution_count": null,
      "outputs": [
        {
          "output_type": "execute_result",
          "data": {
            "text/plain": [
              "<Axes: title={'center': 'validation Data Distribution'}>"
            ]
          },
          "metadata": {},
          "execution_count": 95
        },
        {
          "output_type": "display_data",
          "data": {
            "text/plain": [
              "<Figure size 640x480 with 1 Axes>"
            ],
            "image/png": "[encoded data removed]"
          },
          "metadata": {}
        }
      ]
    },
    {
      "cell_type": "markdown",
      "source": [
        "# Tokenizing Text Data"
      ],
      "metadata": {
        "id": "kURL4bn5AmdE"
      }
    },
    {
      "cell_type": "code",
      "source": [
        "from transformers import BertTokenizer,BertForSequenceClassification,AdamW\n"
      ],
      "metadata": {
        "id": "xQoi3nz8e76F"
      },
      "execution_count": null,
      "outputs": []
    },
    {
      "cell_type": "code",
      "source": [
        "tokenizer = BertTokenizer.from_pretrained('bert-base-uncased',do_lower_case = True)"
      ],
      "metadata": {
        "id": "cN4NmYbVggEg"
      },
      "execution_count": null,
      "outputs": []
    },
    {
      "cell_type": "code",
      "source": [
        "text = traindata['text'].values"
      ],
      "metadata": {
        "id": "SnPxoohXhW4_"
      },
      "execution_count": null,
      "outputs": []
    },
    {
      "cell_type": "code",
      "source": [
        "text"
      ],
      "metadata": {
        "colab": {
          "base_uri": "https://localhost:8080/"
        },
        "id": "jiWG-98-hfS9",
        "outputId": "b760361a-03b4-438e-b75f-32013cbef10b"
      },
      "execution_count": null,
      "outputs": [
        {
          "output_type": "execute_result",
          "data": {
            "text/plain": [
              "array([' so happy that salman won.  btw the 14sec clip is truely a teaser',\n",
              "       \" .......oops.... I guess I'm kinda out of it.... Blonde moment -blushes- epic fail\",\n",
              "       \" decidedly undecided. Depends on the situation. When I'm out with the people I'll be in Chicago with? Maybe.\",\n",
              "       ...,\n",
              "       ' Awe... I wish I could.  I am here this weekend for 2 weddings but I am crazy busy tonight finishing programs 4 bride #1.',\n",
              "       \"Is it me or is Vodafone UK business support rubbish? - Report a problem and you'll be ignored\",\n",
              "       ' - My man hand with cat scratch. Someone said I have a Y chromosome somewhere in there'],\n",
              "      dtype=object)"
            ]
          },
          "metadata": {},
          "execution_count": 103
        }
      ]
    },
    {
      "cell_type": "code",
      "source": [
        "input_ids = []\n",
        "attention_mask = []\n",
        "for i in text:\n",
        "    encoded_data = tokenizer.encode_plus(\n",
        "    i,\n",
        "    add_special_tokens=True,\n",
        "    max_length=64,\n",
        "    pad_to_max_length = True,\n",
        "    return_attention_mask= True,\n",
        "    return_tensors='pt')\n",
        "    input_ids.append(encoded_data['input_ids'])\n",
        "    attention_mask.append(encoded_data['attention_mask'])\n",
        "input_ids = torch.cat(input_ids,dim=0)\n",
        "attention_mask = torch.cat(attention_mask,dim=0)\n",
        "labels = torch.tensor(traindata['feeling'].values)\n",
        "dataset_train = TensorDataset(input_ids, attention_mask, labels)"
      ],
      "metadata": {
        "colab": {
          "base_uri": "https://localhost:8080/"
        },
        "id": "w02D4oD-gjZu",
        "outputId": "36e03586-936b-4e7f-dee5-58ee10198f41"
      },
      "execution_count": null,
      "outputs": [
        {
          "output_type": "stream",
          "name": "stderr",
          "text": [
            "/usr/local/lib/python3.11/dist-packages/transformers/tokenization_utils_base.py:2681: FutureWarning: The `pad_to_max_length` argument is deprecated and will be removed in a future version, use `padding=True` or `padding='longest'` to pad to the longest sequence in the batch, or use `padding='max_length'` to pad to a max length. In this case, you can give a specific length with `max_length` (e.g. `max_length=45`) or leave max_length to None to pad to the maximal input size of the model (e.g. 512 for Bert).\n",
            "  warnings.warn(\n"
          ]
        }
      ]
    },
    {
      "cell_type": "code",
      "source": [
        "input_ids = []\n",
        "attention_mask = []\n",
        "for i in testdata[\"text\"]:\n",
        "    encoded_data = tokenizer.encode_plus(\n",
        "    i,\n",
        "    add_special_tokens=True,\n",
        "    max_length=64,\n",
        "    pad_to_max_length = True,\n",
        "    return_attention_mask= True,\n",
        "    return_tensors='pt')\n",
        "    input_ids.append(encoded_data['input_ids'])\n",
        "    attention_mask.append(encoded_data['attention_mask'])\n",
        "input_ids = torch.cat(input_ids,dim=0)\n",
        "attention_mask = torch.cat(attention_mask,dim=0)\n",
        "labels = torch.tensor(testdata['feeling'].values)\n",
        "dataset_test = TensorDataset(input_ids, attention_mask, labels)"
      ],
      "metadata": {
        "colab": {
          "base_uri": "https://localhost:8080/"
        },
        "id": "1RnRKG7Zi8yQ",
        "outputId": "f9e56127-f620-4e50-9e95-f4634cf12c6d"
      },
      "execution_count": null,
      "outputs": [
        {
          "output_type": "stream",
          "name": "stderr",
          "text": [
            "/usr/local/lib/python3.11/dist-packages/transformers/tokenization_utils_base.py:2681: FutureWarning: The `pad_to_max_length` argument is deprecated and will be removed in a future version, use `padding=True` or `padding='longest'` to pad to the longest sequence in the batch, or use `padding='max_length'` to pad to a max length. In this case, you can give a specific length with `max_length` (e.g. `max_length=45`) or leave max_length to None to pad to the maximal input size of the model (e.g. 512 for Bert).\n",
            "  warnings.warn(\n"
          ]
        }
      ]
    },
    {
      "cell_type": "code",
      "source": [
        "input_ids = []\n",
        "attention_mask = []\n",
        "for i in vdata[\"text\"]:\n",
        "    encoded_data = tokenizer.encode_plus(\n",
        "    i,\n",
        "    add_special_tokens=True,\n",
        "    max_length=64,\n",
        "    pad_to_max_length = True,\n",
        "    return_attention_mask= True,\n",
        "    return_tensors='pt')\n",
        "    input_ids.append(encoded_data['input_ids'])\n",
        "    attention_mask.append(encoded_data['attention_mask'])\n",
        "input_ids = torch.cat(input_ids,dim=0)\n",
        "attention_mask = torch.cat(attention_mask,dim=0)\n",
        "labels = torch.tensor(vdata['feeling'].values)\n",
        "dataset_val = TensorDataset(input_ids, attention_mask, labels)"
      ],
      "metadata": {
        "colab": {
          "base_uri": "https://localhost:8080/"
        },
        "id": "x-WAQUyQjNpf",
        "outputId": "6aeb4550-d793-4641-e723-18ea03889f16"
      },
      "execution_count": null,
      "outputs": [
        {
          "output_type": "stream",
          "name": "stderr",
          "text": [
            "/usr/local/lib/python3.11/dist-packages/transformers/tokenization_utils_base.py:2681: FutureWarning: The `pad_to_max_length` argument is deprecated and will be removed in a future version, use `padding=True` or `padding='longest'` to pad to the longest sequence in the batch, or use `padding='max_length'` to pad to a max length. In this case, you can give a specific length with `max_length` (e.g. `max_length=45`) or leave max_length to None to pad to the maximal input size of the model (e.g. 512 for Bert).\n",
            "  warnings.warn(\n"
          ]
        }
      ]
    },
    {
      "cell_type": "markdown",
      "source": [
        "# Creating Tensor Datasets"
      ],
      "metadata": {
        "id": "gBvY7lVYAuBK"
      }
    },
    {
      "cell_type": "code",
      "source": [
        "from torch.utils.data import DataLoader,SequentialSampler,RandomSampler,TensorDataset,random_split"
      ],
      "metadata": {
        "id": "VllCIfBtiE5m"
      },
      "execution_count": null,
      "outputs": []
    },
    {
      "cell_type": "markdown",
      "source": [
        "Creating Dataloaders"
      ],
      "metadata": {
        "id": "QL1y0kegA39q"
      }
    },
    {
      "cell_type": "code",
      "source": [
        "train_dl = DataLoader(dataset_train,sampler = RandomSampler(dataset_train),\n",
        "                     batch_size = 32)\n",
        "val_dl = DataLoader(dataset_val,sampler = SequentialSampler(dataset_val),\n",
        "                     batch_size = 32)"
      ],
      "metadata": {
        "id": "Noxa8GTSiGHv"
      },
      "execution_count": null,
      "outputs": []
    },
    {
      "cell_type": "code",
      "source": [
        "len(train_dl),len(val_dl)"
      ],
      "metadata": {
        "colab": {
          "base_uri": "https://localhost:8080/"
        },
        "id": "42ZJCofUipLW",
        "outputId": "539ddd44-fc9d-43dd-b2fc-4c2f8a15e3b7"
      },
      "execution_count": null,
      "outputs": [
        {
          "output_type": "execute_result",
          "data": {
            "text/plain": [
              "(3741, 936)"
            ]
          },
          "metadata": {},
          "execution_count": 117
        }
      ]
    },
    {
      "cell_type": "markdown",
      "source": [
        "#  Imoprting  BERT Model"
      ],
      "metadata": {
        "id": "EvX8oHUpA-13"
      }
    },
    {
      "cell_type": "code",
      "source": [
        "model = BertForSequenceClassification.from_pretrained(\n",
        "'bert-base-uncased',\n",
        "num_labels = 2,\n",
        "output_attentions = False,\n",
        "output_hidden_states = False)"
      ],
      "metadata": {
        "colab": {
          "base_uri": "https://localhost:8080/"
        },
        "id": "bY_AHC25kGGc",
        "outputId": "42ea7852-f206-4da7-d7b3-d8f4e3d91ec0"
      },
      "execution_count": null,
      "outputs": [
        {
          "output_type": "stream",
          "name": "stderr",
          "text": [
            "Some weights of BertForSequenceClassification were not initialized from the model checkpoint at bert-base-uncased and are newly initialized: ['classifier.bias', 'classifier.weight']\n",
            "You should probably TRAIN this model on a down-stream task to be able to use it for predictions and inference.\n"
          ]
        }
      ]
    },
    {
      "cell_type": "code",
      "source": [
        "import random\n",
        "\n",
        "seed_val = 17\n",
        "random.seed(seed_val)\n",
        "np.random.seed(seed_val)\n",
        "torch.manual_seed(seed_val)\n",
        "torch.cuda.manual_seed_all(seed_val)"
      ],
      "metadata": {
        "id": "oA4lsybnkKdb"
      },
      "execution_count": null,
      "outputs": []
    },
    {
      "cell_type": "code",
      "source": [
        "device = torch.device('cuda' if torch.cuda.is_available() else 'cpu')\n",
        "model.to(device)\n",
        "\n",
        "print(device)"
      ],
      "metadata": {
        "colab": {
          "base_uri": "https://localhost:8080/"
        },
        "id": "BXrL2RgLkMO8",
        "outputId": "8758d3dd-da22-4f86-fcac-28c7c15c4d02"
      },
      "execution_count": null,
      "outputs": [
        {
          "output_type": "stream",
          "name": "stdout",
          "text": [
            "cuda\n"
          ]
        }
      ]
    },
    {
      "cell_type": "code",
      "source": [
        "optimizer = AdamW(model.parameters(),lr = 2e-5,eps=1e-8)"
      ],
      "metadata": {
        "colab": {
          "base_uri": "https://localhost:8080/"
        },
        "id": "RTatFiWvkPXD",
        "outputId": "13a67777-a879-427b-c689-6424f46e63bd"
      },
      "execution_count": null,
      "outputs": [
        {
          "output_type": "stream",
          "name": "stderr",
          "text": [
            "/usr/local/lib/python3.11/dist-packages/transformers/optimization.py:591: FutureWarning: This implementation of AdamW is deprecated and will be removed in a future version. Use the PyTorch implementation torch.optim.AdamW instead, or set `no_deprecation_warning=True` to disable this warning\n",
            "  warnings.warn(\n"
          ]
        }
      ]
    },
    {
      "cell_type": "markdown",
      "source": [
        "# Configuring Optimizer and Scheduler"
      ],
      "metadata": {
        "id": "Q-xpiOggBOAx"
      }
    },
    {
      "cell_type": "code",
      "source": [
        "from transformers import get_linear_schedule_with_warmup\n",
        "epochs = 1\n",
        "total_steps = len(train_dl)*epochs\n",
        "scheduler = get_linear_schedule_with_warmup(optimizer,num_warmup_steps=0,\n",
        "                                           num_training_steps=total_steps)"
      ],
      "metadata": {
        "id": "65_1FCshkRhy"
      },
      "execution_count": null,
      "outputs": []
    },
    {
      "cell_type": "code",
      "source": [
        "def accuracy(preds,labels):\n",
        "    pred_flat = np.argmax(preds,axis=1).flatten()\n",
        "    label_flat = labels.flatten()\n",
        "    return np.sum(pred_flat==label_flat)/len(label_flat)"
      ],
      "metadata": {
        "id": "eqIy6Fc0kWEg"
      },
      "execution_count": null,
      "outputs": []
    },
    {
      "cell_type": "code",
      "source": [
        "def evaluate(dataloader_test):\n",
        "    model.eval()\n",
        "    loss_val_total = 0\n",
        "    predictions,true_vals = [],[]\n",
        "    for batch in dataloader_test:\n",
        "        batch = tuple(b.to(device) for b in batch)\n",
        "        inputs = {\n",
        "            'input_ids':batch[0],\n",
        "            'attention_mask': batch[1],\n",
        "            'labels': batch[2]\n",
        "        }\n",
        "        with torch.no_grad():\n",
        "            outputs = model(**inputs)\n",
        "        loss = outputs[0]\n",
        "        logits = outputs[1]\n",
        "        loss_val_total += loss.item()\n",
        "        logits = logits.detach().cpu().numpy()\n",
        "        label_ids = inputs['labels'].cpu().numpy()\n",
        "        predictions.append(logits)\n",
        "        true_vals.append(label_ids)\n",
        "    loss_val_avg = loss_val_total / len(dataloader_test)\n",
        "    predictions = np.concatenate(predictions,axis=0)\n",
        "    true_vals = np.concatenate(true_vals,axis=0)\n",
        "    return loss_val_avg,predictions,true_vals"
      ],
      "metadata": {
        "id": "gU-HC572kW1S"
      },
      "execution_count": null,
      "outputs": []
    },
    {
      "cell_type": "markdown",
      "source": [
        "# model training"
      ],
      "metadata": {
        "id": "BOp5YOxHBVXp"
      }
    },
    {
      "cell_type": "code",
      "source": [
        "from tqdm.notebook import tqdm\n",
        "torch.cuda.empty_cache()\n",
        "for epoch in tqdm(range(1, epochs+1)):\n",
        "\n",
        "    model.train()\n",
        "\n",
        "    loss_train_total = 0\n",
        "\n",
        "    progress_bar = tqdm(train_dl, desc='Epoch {:1d}'.format(epoch), leave=False, disable=False)\n",
        "    for batch in progress_bar:\n",
        "\n",
        "        model.zero_grad()\n",
        "\n",
        "        batch = tuple(b.to(device) for b in batch)\n",
        "\n",
        "        inputs = {'input_ids':      batch[0],\n",
        "                  'attention_mask': batch[1],\n",
        "                  'labels':         batch[2],\n",
        "                 }\n",
        "\n",
        "        outputs = model(**inputs)\n",
        "\n",
        "        loss = outputs[0]\n",
        "        loss_train_total += loss.item()\n",
        "        loss.backward()\n",
        "\n",
        "        torch.nn.utils.clip_grad_norm_(model.parameters(), 1.0)\n",
        "\n",
        "        optimizer.step()\n",
        "        scheduler.step()\n",
        "\n",
        "        progress_bar.set_postfix({'training_loss': '{:.3f}'.format(loss.item()/len(batch))})\n",
        "\n",
        "\n",
        "    tqdm.write(f'\\nEpoch {epoch}')\n",
        "\n",
        "    loss_train_avg = loss_train_total/len(train_dl)\n",
        "    tqdm.write(f'Training loss: {loss_train_avg}')\n",
        "\n",
        "    val_loss, predictions, true_vals = evaluate(val_dl)\n",
        "    val_acc = accuracy(predictions, true_vals)\n",
        "    tqdm.write(f'Validation loss: {val_loss}')\n",
        "    tqdm.write(f'Accuracy: {val_acc}')"
      ],
      "metadata": {
        "colab": {
          "base_uri": "https://localhost:8080/",
          "height": 136,
          "referenced_widgets": [
            "f6257f2e3d22402c99fb4e0ab3d31ebe",
            "ec904c25c601436f9be14d249b27c824",
            "36dd4329b43e4a678d7164d5d02a0bfc",
            "178d4b5c08e947838557ea22c86782ed",
            "31727388ceea436ebfabdbfe99ab5891",
            "78dff75853ed4681bb754a91ba9b61ed",
            "528556c911b040b8aa7a9b046c152bb2",
            "1d0a036e8ea641a89c7db3f314a479dc",
            "fd641e36cb414d10af340cb224becb3b",
            "954011d384cb4c978472a2a91c6ef8fe",
            "93a421689e0a48358a6d153c873255d3",
            "31e61ee40b0a4f769c0ff27113417a5a",
            "d2861ff7696246fda2f4d648872301fd",
            "1827ac6a672e42eab9ef2e9b56ce6b40",
            "58206a682f234a95b014633a6d25ff2b",
            "5fde20eb072a4f11aa8d75825e01cc8c",
            "445b69e7bda0450bbbc853a4d720c254",
            "7aad003c52aa4d00bd5bb746d76f9c3d",
            "39d428e3094f460499b01b6a43cc54c2",
            "0c342d341ea54fd1836e1339fbfec598",
            "1eca5905245f49c781803b86654b508c",
            "76c6d200bfe246b3aed19f4514bf27d9"
          ]
        },
        "id": "LTmXttdRkrmB",
        "outputId": "a03e5de3-06dc-4909-ee09-f9f9c0c35237"
      },
      "execution_count": null,
      "outputs": [
        {
          "output_type": "display_data",
          "data": {
            "text/plain": [
              "  0%|          | 0/1 [00:00<?, ?it/s]"
            ],
            "application/vnd.jupyter.widget-view+json": {
              "version_major": 2,
              "version_minor": 0,
              "model_id": "f6257f2e3d22402c99fb4e0ab3d31ebe"
            }
          },
          "metadata": {}
        },
        {
          "output_type": "display_data",
          "data": {
            "text/plain": [
              "Epoch 1:   0%|          | 0/3741 [00:00<?, ?it/s]"
            ],
            "application/vnd.jupyter.widget-view+json": {
              "version_major": 2,
              "version_minor": 0,
              "model_id": "31e61ee40b0a4f769c0ff27113417a5a"
            }
          },
          "metadata": {}
        },
        {
          "output_type": "stream",
          "name": "stdout",
          "text": [
            "\n",
            "Epoch 1\n",
            "Training loss: 0.37920724397211014\n",
            "Validation loss: 0.33793741564115143\n",
            "Accuracy: 0.8551950005012866\n"
          ]
        }
      ]
    },
    {
      "cell_type": "markdown",
      "source": [
        "saveing the model"
      ],
      "metadata": {
        "id": "QJCAFm9tBhBp"
      }
    },
    {
      "cell_type": "code",
      "source": [
        "output_dir = './'\n",
        "model_to_save = model.module if hasattr(model, 'module') else model\n",
        "model_to_save.save_pretrained(output_dir)\n",
        "tokenizer.save_pretrained(output_dir)"
      ],
      "metadata": {
        "colab": {
          "base_uri": "https://localhost:8080/"
        },
        "id": "dYuwJZ7-lSOT",
        "outputId": "c5f829e1-e9cb-41ab-c2cb-e356bee5f747"
      },
      "execution_count": null,
      "outputs": [
        {
          "output_type": "execute_result",
          "data": {
            "text/plain": [
              "('./tokenizer_config.json',\n",
              " './special_tokens_map.json',\n",
              " './vocab.txt',\n",
              " './added_tokens.json')"
            ]
          },
          "metadata": {},
          "execution_count": 126
        }
      ]
    },
    {
      "cell_type": "code",
      "source": [
        "from transformers import BertTokenizer,BertForSequenceClassification\n",
        "import torch\n",
        "\n",
        "print('Loading BERT tokenizer...')\n",
        "output_dir = './'\n",
        "tokenizer = BertTokenizer.from_pretrained(output_dir)\n",
        "model_loaded = BertForSequenceClassification.from_pretrained(output_dir)"
      ],
      "metadata": {
        "colab": {
          "base_uri": "https://localhost:8080/"
        },
        "id": "2L40l80clS8N",
        "outputId": "87e7f49b-26d3-4396-8218-aee6d17b2480"
      },
      "execution_count": null,
      "outputs": [
        {
          "output_type": "stream",
          "name": "stdout",
          "text": [
            "Loading BERT tokenizer...\n"
          ]
        }
      ]
    },
    {
      "cell_type": "markdown",
      "source": [
        "Defining Sentiment Prediction Function"
      ],
      "metadata": {
        "id": "QJWIoZtFBtfH"
      }
    },
    {
      "cell_type": "code",
      "source": [
        "def Sentiment(sent):\n",
        "    output_dir = './'\n",
        "    tokenizer = BertTokenizer.from_pretrained(output_dir)\n",
        "    model_loaded = BertForSequenceClassification.from_pretrained(output_dir)\n",
        "    encoded_dict = tokenizer.encode_plus(\n",
        "                        sent,\n",
        "                        add_special_tokens = True,\n",
        "                        max_length = 64,\n",
        "                        pad_to_max_length = True,\n",
        "                        return_attention_mask = True,\n",
        "                        return_tensors = 'pt',\n",
        "                   )\n",
        "\n",
        "    input_id = encoded_dict['input_ids']\n",
        "\n",
        "    attention_mask = encoded_dict['attention_mask']\n",
        "    input_id = torch.LongTensor(input_id)\n",
        "    attention_mask = torch.LongTensor(attention_mask)\n",
        "\n",
        "    device = torch.device(\"cuda\" if torch.cuda.is_available() else \"cpu\")\n",
        "    model_loaded = model_loaded.to(device)\n",
        "    input_id = input_id.to(device)\n",
        "    attention_mask = attention_mask.to(device)\n",
        "\n",
        "    with torch.no_grad():\n",
        "        outputs = model_loaded(input_id, token_type_ids=None, attention_mask=attention_mask)\n",
        "\n",
        "    logits = outputs[0]\n",
        "    index = logits.argmax()\n",
        "    return index"
      ],
      "metadata": {
        "id": "WVA1BHOXlWJn"
      },
      "execution_count": null,
      "outputs": []
    },
    {
      "cell_type": "markdown",
      "source": [
        "# testing the model"
      ],
      "metadata": {
        "id": "3T1sKAMPB4wL"
      }
    },
    {
      "cell_type": "markdown",
      "source": [
        "positive message"
      ],
      "metadata": {
        "id": "OAKsgHqrB87t"
      }
    },
    {
      "cell_type": "code",
      "source": [
        "ans = Sentiment('i am winer')"
      ],
      "metadata": {
        "colab": {
          "base_uri": "https://localhost:8080/"
        },
        "id": "Uvniooxylcco",
        "outputId": "bbf007f9-22b7-450e-bfe2-b3563214d380"
      },
      "execution_count": null,
      "outputs": [
        {
          "output_type": "stream",
          "name": "stderr",
          "text": [
            "Truncation was not explicitly activated but `max_length` is provided a specific value, please use `truncation=True` to explicitly truncate examples to max length. Defaulting to 'longest_first' truncation strategy. If you encode pairs of sequences (GLUE-style) with the tokenizer you can select this strategy more precisely by providing a specific strategy to `truncation`.\n",
            "/usr/local/lib/python3.11/dist-packages/transformers/tokenization_utils_base.py:2681: FutureWarning: The `pad_to_max_length` argument is deprecated and will be removed in a future version, use `padding=True` or `padding='longest'` to pad to the longest sequence in the batch, or use `padding='max_length'` to pad to a max length. In this case, you can give a specific length with `max_length` (e.g. `max_length=45`) or leave max_length to None to pad to the maximal input size of the model (e.g. 512 for Bert).\n",
            "  warnings.warn(\n"
          ]
        }
      ]
    },
    {
      "cell_type": "code",
      "source": [
        "if ans == 1:\n",
        "    print(\"Positive\")\n",
        "else:\n",
        "    print(\"Negative\")"
      ],
      "metadata": {
        "colab": {
          "base_uri": "https://localhost:8080/"
        },
        "id": "24G66IUCldxF",
        "outputId": "e1dda72f-a5ce-4c35-a0d9-c03628692b97"
      },
      "execution_count": null,
      "outputs": [
        {
          "output_type": "stream",
          "name": "stdout",
          "text": [
            "Positive\n"
          ]
        }
      ]
    },
    {
      "cell_type": "code",
      "source": [
        "j = Sentiment('i hate u')"
      ],
      "metadata": {
        "colab": {
          "base_uri": "https://localhost:8080/"
        },
        "id": "5bBpbhR_CDfu",
        "outputId": "ec86a740-915a-4848-e351-6afab0c4a36d"
      },
      "execution_count": null,
      "outputs": [
        {
          "output_type": "stream",
          "name": "stderr",
          "text": [
            "Truncation was not explicitly activated but `max_length` is provided a specific value, please use `truncation=True` to explicitly truncate examples to max length. Defaulting to 'longest_first' truncation strategy. If you encode pairs of sequences (GLUE-style) with the tokenizer you can select this strategy more precisely by providing a specific strategy to `truncation`.\n",
            "/usr/local/lib/python3.11/dist-packages/transformers/tokenization_utils_base.py:2681: FutureWarning: The `pad_to_max_length` argument is deprecated and will be removed in a future version, use `padding=True` or `padding='longest'` to pad to the longest sequence in the batch, or use `padding='max_length'` to pad to a max length. In this case, you can give a specific length with `max_length` (e.g. `max_length=45`) or leave max_length to None to pad to the maximal input size of the model (e.g. 512 for Bert).\n",
            "  warnings.warn(\n"
          ]
        }
      ]
    },
    {
      "cell_type": "code",
      "source": [
        "if j == 1:\n",
        "    print(\"Positive\")\n",
        "else:\n",
        "    print(\"Negative\")"
      ],
      "metadata": {
        "colab": {
          "base_uri": "https://localhost:8080/"
        },
        "id": "_neeZxAICHZz",
        "outputId": "a0ddaaf4-f250-4f44-d912-1e384f84a38d"
      },
      "execution_count": null,
      "outputs": [
        {
          "output_type": "stream",
          "name": "stdout",
          "text": [
            "Negative\n"
          ]
        }
      ]
    },
    {
      "cell_type": "code",
      "source": [],
      "metadata": {
        "id": "LGxdKyJLCLRZ"
      },
      "execution_count": null,
      "outputs": []
    }
  ]
}